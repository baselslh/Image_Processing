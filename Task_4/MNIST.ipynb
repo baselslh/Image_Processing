{
 "cells": [
  {
   "cell_type": "markdown",
   "metadata": {},
   "source": [
    "## 1. Loading the dataset"
   ]
  },
  {
   "cell_type": "code",
   "execution_count": 56,
   "metadata": {},
   "outputs": [],
   "source": [
    "import numpy as np\n",
    "from tensorflow.keras.datasets import mnist\n",
    "\n",
    "# load dataset\n",
    "(X_train, y_train), (X_test, y_test) = mnist.load_data()\n"
   ]
  },
  {
   "cell_type": "code",
   "execution_count": 57,
   "metadata": {},
   "outputs": [
    {
     "name": "stdout",
     "output_type": "stream",
     "text": [
      "(60000, 28, 28)\n",
      "(10000, 28, 28)\n"
     ]
    }
   ],
   "source": [
    "print(X_train.shape)\n",
    "print(X_test.shape)\n"
   ]
  },
  {
   "cell_type": "code",
   "execution_count": 58,
   "metadata": {},
   "outputs": [],
   "source": [
    "# convert from integers to floats\n",
    "X_train = X_train.astype(\"float32\")\n",
    "X_test = X_test.astype(\"float32\")\n",
    "# normalize to range 0-1\n",
    "X_train = X_train / 255.0\n",
    "X_test = X_test / 255.0\n"
   ]
  },
  {
   "cell_type": "code",
   "execution_count": 59,
   "metadata": {},
   "outputs": [
    {
     "name": "stdout",
     "output_type": "stream",
     "text": [
      "(60000, 28, 28)\n",
      "(10000, 28, 28)\n"
     ]
    }
   ],
   "source": [
    "print(X_train.shape)\n",
    "print(X_test.shape)\n"
   ]
  },
  {
   "cell_type": "code",
   "execution_count": 60,
   "metadata": {},
   "outputs": [],
   "source": [
    "from keras.utils.np_utils import to_categorical\n",
    "\n",
    "y_train = to_categorical(y_train)\n",
    "y_test = to_categorical(y_test)\n"
   ]
  },
  {
   "cell_type": "markdown",
   "metadata": {},
   "source": [
    "# 2. Creating the Model"
   ]
  },
  {
   "cell_type": "code",
   "execution_count": 61,
   "metadata": {},
   "outputs": [],
   "source": [
    "from keras.models import Sequential\n",
    "from keras.layers import Conv2D, MaxPooling2D  # convolution layers\n",
    "from keras.layers import Dense, Flatten  # core layers\n",
    "\n",
    "model = Sequential()\n",
    "model.add(\n",
    "    Conv2D(\n",
    "        32,\n",
    "        (3, 3),\n",
    "        activation=\"relu\",\n",
    "        kernel_initializer=\"he_uniform\",\n",
    "        input_shape=(28, 28, 1),\n",
    "    )\n",
    ")\n",
    "model.add(MaxPooling2D((2, 2)))\n",
    "model.add(Flatten())\n",
    "model.add(Dense(100, activation=\"relu\", kernel_initializer=\"he_uniform\"))\n",
    "model.add(Dense(10, activation=\"softmax\"))\n",
    "# compile model\n",
    "model.compile(loss=\"categorical_crossentropy\", optimizer=\"adam\", metrics=[\"accuracy\"])\n"
   ]
  },
  {
   "cell_type": "code",
   "execution_count": 62,
   "metadata": {},
   "outputs": [
    {
     "name": "stdout",
     "output_type": "stream",
     "text": [
      "Model: \"sequential_1\"\n",
      "_________________________________________________________________\n",
      " Layer (type)                Output Shape              Param #   \n",
      "=================================================================\n",
      " conv2d_1 (Conv2D)           (None, 26, 26, 32)        320       \n",
      "                                                                 \n",
      " max_pooling2d_1 (MaxPooling  (None, 13, 13, 32)       0         \n",
      " 2D)                                                             \n",
      "                                                                 \n",
      " flatten_1 (Flatten)         (None, 5408)              0         \n",
      "                                                                 \n",
      " dense_2 (Dense)             (None, 100)               540900    \n",
      "                                                                 \n",
      " dense_3 (Dense)             (None, 10)                1010      \n",
      "                                                                 \n",
      "=================================================================\n",
      "Total params: 542,230\n",
      "Trainable params: 542,230\n",
      "Non-trainable params: 0\n",
      "_________________________________________________________________\n"
     ]
    }
   ],
   "source": [
    "model.summary()\n"
   ]
  },
  {
   "cell_type": "code",
   "execution_count": 63,
   "metadata": {},
   "outputs": [
    {
     "name": "stdout",
     "output_type": "stream",
     "text": [
      "Epoch 1/10\n",
      "375/375 [==============================] - 19s 50ms/step - loss: 0.2092 - accuracy: 0.9372 - val_loss: 0.0861 - val_accuracy: 0.9748\n",
      "Epoch 2/10\n",
      "375/375 [==============================] - 18s 47ms/step - loss: 0.0638 - accuracy: 0.9805 - val_loss: 0.0600 - val_accuracy: 0.9819\n",
      "Epoch 3/10\n",
      "375/375 [==============================] - 18s 48ms/step - loss: 0.0385 - accuracy: 0.9883 - val_loss: 0.0605 - val_accuracy: 0.9823\n",
      "Epoch 4/10\n",
      "375/375 [==============================] - 19s 50ms/step - loss: 0.0270 - accuracy: 0.9917 - val_loss: 0.0531 - val_accuracy: 0.9844\n",
      "Epoch 5/10\n",
      "375/375 [==============================] - 19s 50ms/step - loss: 0.0183 - accuracy: 0.9945 - val_loss: 0.0568 - val_accuracy: 0.9845\n",
      "Epoch 6/10\n",
      "375/375 [==============================] - 19s 50ms/step - loss: 0.0121 - accuracy: 0.9967 - val_loss: 0.0583 - val_accuracy: 0.9834\n",
      "Epoch 7/10\n",
      "375/375 [==============================] - 18s 47ms/step - loss: 0.0078 - accuracy: 0.9978 - val_loss: 0.0536 - val_accuracy: 0.9856\n",
      "Epoch 8/10\n",
      "375/375 [==============================] - 18s 49ms/step - loss: 0.0047 - accuracy: 0.9991 - val_loss: 0.0535 - val_accuracy: 0.9859\n",
      "Epoch 9/10\n",
      "375/375 [==============================] - 18s 48ms/step - loss: 0.0055 - accuracy: 0.9985 - val_loss: 0.0718 - val_accuracy: 0.9832\n",
      "Epoch 10/10\n",
      "375/375 [==============================] - 17s 46ms/step - loss: 0.0087 - accuracy: 0.9973 - val_loss: 0.0588 - val_accuracy: 0.9858\n"
     ]
    },
    {
     "data": {
      "text/plain": [
       "<keras.callbacks.History at 0x23ddbd84e20>"
      ]
     },
     "execution_count": 63,
     "metadata": {},
     "output_type": "execute_result"
    }
   ],
   "source": [
    "model.fit(X_train, y_train, batch_size=128, validation_split=0.2, epochs=10)\n"
   ]
  },
  {
   "cell_type": "code",
   "execution_count": 64,
   "metadata": {},
   "outputs": [],
   "source": [
    "model.save(\"MNIST.h5\")\n"
   ]
  },
  {
   "cell_type": "code",
   "execution_count": 65,
   "metadata": {},
   "outputs": [],
   "source": [
    "y_pred = model.predict(\n",
    "    X_test\n",
    ")  # Predict class probabilities as 2 => [0.1, 0, 0.9, 0, 0, 0, 0, 0, 0, 0]\n",
    "\n",
    "Y_pred = np.argmax(y_pred, 1)  # Decode Predicted labels\n",
    "Y_test = np.argmax(y_test, 1)  # Decode labels\n"
   ]
  },
  {
   "cell_type": "markdown",
   "metadata": {},
   "source": [
    "# 3. Building the Confusion Matrix "
   ]
  },
  {
   "cell_type": "code",
   "execution_count": 66,
   "metadata": {},
   "outputs": [
    {
     "name": "stdout",
     "output_type": "stream",
     "text": [
      "Confusion Matrix:\n",
      "  0\t1\t2\t3\t4\t5\t6\t7\t8\t9\t\n",
      "0 975\t0\t3\t0\t0\t1\t4\t1\t4\t0\t\n",
      "1 0\t1126\t3\t0\t1\t0\t1\t1\t0\t3\t\n",
      "2 0\t2\t1006\t1\t0\t1\t0\t6\t1\t0\t\n",
      "3 0\t0\t3\t998\t0\t5\t1\t1\t3\t1\t\n",
      "4 0\t0\t0\t0\t976\t0\t1\t0\t2\t8\t\n",
      "5 1\t2\t0\t3\t0\t878\t2\t0\t0\t4\t\n",
      "6 3\t4\t2\t0\t1\t6\t949\t0\t3\t0\t\n",
      "7 1\t0\t9\t4\t0\t0\t0\t1016\t7\t9\t\n",
      "8 0\t1\t5\t2\t0\t1\t0\t2\t951\t4\t\n",
      "9 0\t0\t1\t2\t4\t0\t0\t1\t3\t980\t\n"
     ]
    }
   ],
   "source": [
    "import numpy as np\n",
    "\n",
    "\n",
    "def comp_confmat(actual, predicted):\n",
    "\n",
    "    classes = np.unique(actual)  # extract the different classes\n",
    "    matrix = np.zeros(\n",
    "        (len(classes), len(classes))\n",
    "    )  # initialize the confusion matrix with zeros\n",
    "\n",
    "    for i in range(len(classes)):\n",
    "        for j in range(len(classes)):\n",
    "            matrix[i, j] = np.sum((actual == classes[i]) & (predicted == classes[j]))\n",
    "\n",
    "    return matrix\n",
    "\n",
    "\n",
    "mat = comp_confmat(Y_test, Y_pred)\n",
    "print(\"Confusion Matrix:\")\n",
    "print(\" \", end=\" \")\n",
    "[print(i, end=\"\\t\") for i in range(len(mat.transpose()))]\n",
    "print()\n",
    "for i, index in zip(mat.transpose(), range(len(mat.transpose()))):\n",
    "    print(index, end=\" \")\n",
    "    for j in i:\n",
    "        print(\"{:.0f}\".format(j), end=\"\\t\")\n",
    "    print()\n"
   ]
  },
  {
   "cell_type": "code",
   "execution_count": 67,
   "metadata": {},
   "outputs": [
    {
     "data": {
      "image/png": "[encoded data removed]",
      "text/plain": [
       "<Figure size 720x720 with 1 Axes>"
      ]
     },
     "metadata": {
      "needs_background": "light"
     },
     "output_type": "display_data"
    }
   ],
   "source": [
    "import matplotlib.pyplot as plt\n",
    "from sklearn.metrics import confusion_matrix\n",
    "import seaborn as sns\n",
    "\n",
    "fig = plt.figure(figsize=(10, 10))  # Set Figure\n",
    "# Plot Confusion matrix\n",
    "sns.heatmap(\n",
    "    mat.transpose(), square=True, annot=True, cbar=False, cmap=plt.cm.Blues, fmt=\".0f\"\n",
    ")\n",
    "plt.xlabel(\"Predicted Values\")\n",
    "plt.ylabel(\"True Values\")\n",
    "plt.show()\n"
   ]
  },
  {
   "cell_type": "code",
   "execution_count": 68,
   "metadata": {},
   "outputs": [
    {
     "data": {
      "image/png": "[encoded data removed]",
      "text/plain": [
       "<Figure size 720x720 with 1 Axes>"
      ]
     },
     "metadata": {
      "needs_background": "light"
     },
     "output_type": "display_data"
    }
   ],
   "source": [
    "import matplotlib.pyplot as plt\n",
    "from sklearn.metrics import confusion_matrix\n",
    "import seaborn as sns\n",
    "\n",
    "fig = plt.figure(figsize=(10, 10))  # Set Figure\n",
    "\n",
    "# mat = confusion_matrix(Y_test, Y_pred) # Confusion matrix\n",
    "mat_sklearn = confusion_matrix(Y_test, Y_pred)\n",
    "\n",
    "# Plot Confusion matrix\n",
    "sns.heatmap(\n",
    "    mat_sklearn.T, square=True, annot=True, cbar=False, cmap=plt.cm.Blues, fmt=\".0f\"\n",
    ")\n",
    "plt.xlabel(\"Predicted Values\")\n",
    "plt.ylabel(\"True Values\")\n",
    "plt.show()\n"
   ]
  },
  {
   "cell_type": "markdown",
   "metadata": {},
   "source": [
    "# 4. Calculating the Precision,Recall and F1 score."
   ]
  },
  {
   "cell_type": "code",
   "execution_count": 69,
   "metadata": {},
   "outputs": [],
   "source": [
    "true_pos = np.diag(mat)\n",
    "false_pos = np.sum(mat, axis=0) - true_pos\n",
    "false_neg = np.sum(mat, axis=1) - true_pos\n",
    "\n",
    "precision = true_pos / (true_pos + false_pos)\n",
    "recall = true_pos / (true_pos + false_neg)\n",
    "f1_score = (2 * (precision * recall)) / (precision + recall)\n"
   ]
  },
  {
   "cell_type": "code",
   "execution_count": 70,
   "metadata": {},
   "outputs": [
    {
     "name": "stdout",
     "output_type": "stream",
     "text": [
      "Label\t\tprecision\trecall\t\tf1-score\n",
      "  0       \t0.9868\t\t0.9949\t\t0.9909\n",
      "  1       \t0.9921\t\t0.9921\t\t0.9921\n",
      "  2       \t0.9892\t\t0.9748\t\t0.9819\n",
      "  3       \t0.9862\t\t0.9881\t\t0.9871\n",
      "  4       \t0.9889\t\t0.9939\t\t0.9914\n",
      "  5       \t0.9865\t\t0.9843\t\t0.9854\n",
      "  6       \t0.9804\t\t0.9906\t\t0.9855\n",
      "  7       \t0.9713\t\t0.9883\t\t0.9797\n",
      "  8       \t0.9845\t\t0.9764\t\t0.9804\n",
      "  9       \t0.9889\t\t0.9713\t\t0.9800\n"
     ]
    }
   ],
   "source": [
    "target_names = [\"0\", \"1\", \"2\", \"3\", \"4\", \"5\", \"6\", \"7\", \"8\", \"9\"]\n",
    "rows = list(zip(target_names, precision, recall, f1_score))\n",
    "print(\"Label\\t\\tprecision\\trecall\\t\\tf1-score\")\n",
    "# for i in range(len(rows)):\n",
    "#     print(rows[i],\"\\n\")\n",
    "for i in rows:\n",
    "    print(\"  {:<8}\\t{:.4f}\\t\\t{:.4f}\\t\\t{:.4f}\".format(i[0], i[1], i[2], i[3]))\n"
   ]
  },
  {
   "cell_type": "code",
   "execution_count": 71,
   "metadata": {},
   "outputs": [
    {
     "name": "stdout",
     "output_type": "stream",
     "text": [
      "              precision    recall  f1-score   support\n",
      "\n",
      "           0       0.99      0.99      0.99       980\n",
      "           1       0.99      0.99      0.99      1135\n",
      "           2       0.99      0.97      0.98      1032\n",
      "           3       0.99      0.99      0.99      1010\n",
      "           4       0.99      0.99      0.99       982\n",
      "           5       0.99      0.98      0.99       892\n",
      "           6       0.98      0.99      0.99       958\n",
      "           7       0.97      0.99      0.98      1028\n",
      "           8       0.98      0.98      0.98       974\n",
      "           9       0.99      0.97      0.98      1009\n",
      "\n",
      "    accuracy                           0.99     10000\n",
      "   macro avg       0.99      0.99      0.99     10000\n",
      "weighted avg       0.99      0.99      0.99     10000\n",
      "\n"
     ]
    }
   ],
   "source": [
    "from sklearn.metrics import classification_report\n",
    "\n",
    "print(classification_report(Y_test, Y_pred))\n"
   ]
  }
 ],
 "metadata": {
  "interpreter": {
   "hash": "480c14cd519d4cac626ed4e2ff26eb76a48d8461070c1f960eb23b2ab109b24d"
  },
  "kernelspec": {
   "display_name": "Python 3.10.2 64-bit",
   "language": "python",
   "name": "python3"
  },
  "language_info": {
   "codemirror_mode": {
    "name": "ipython",
    "version": 3
   },
   "file_extension": ".py",
   "mimetype": "text/x-python",
   "name": "python",
   "nbconvert_exporter": "python",
   "pygments_lexer": "ipython3",
   "version": "3.10.2"
  },
  "orig_nbformat": 4
 },
 "nbformat": 4,
 "nbformat_minor": 2
}
